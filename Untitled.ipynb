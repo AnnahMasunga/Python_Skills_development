{
 "cells": [
  {
   "cell_type": "markdown",
   "id": "c02ffceb",
   "metadata": {},
   "source": []
  },
  {
   "cell_type": "code",
   "execution_count": null,
   "id": "0747b291",
   "metadata": {},
   "outputs": [],
   "source": [
    "# Collecting user information\n",
    "name = input(\"What is your name: \")\n",
    "age = input(\"How old are you: \")\n",
    "color = input(\"What is your favorite color: \")\n",
    "\n"
   ]
  },
  {
   "cell_type": "code",
   "execution_count": null,
   "id": "873e163f",
   "metadata": {},
   "outputs": [],
   "source": [
    "# Printing user information\n",
    "print(\"User information \")\n",
    "print(\"name: \" + name)\n",
    "print(\"age: \" + age)\n",
    "print(\"color: \" + color)"
   ]
  }
 ],
 "metadata": {
  "kernelspec": {
   "display_name": "Python 3 (ipykernel)",
   "language": "python",
   "name": "python3"
  },
  "language_info": {
   "codemirror_mode": {
    "name": "ipython",
    "version": 3
   },
   "file_extension": ".py",
   "mimetype": "text/x-python",
   "name": "python",
   "nbconvert_exporter": "python",
   "pygments_lexer": "ipython3",
   "version": "3.9.13"
  }
 },
 "nbformat": 4,
 "nbformat_minor": 5
}
