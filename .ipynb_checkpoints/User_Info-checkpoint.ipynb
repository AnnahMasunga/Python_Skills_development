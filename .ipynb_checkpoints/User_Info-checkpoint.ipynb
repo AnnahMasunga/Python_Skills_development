{
 "cells": [
  {
   "cell_type": "markdown",
   "id": "48bfe6e2",
   "metadata": {},
   "source": [
    "### User Information Collection Exercise\n",
    "This notebook collects a user’s name, age, and favorite color, displaying them back to the user. This helps practice basic Python syntax, input/output, and string formatting.\n"
   ]
  },
  {
   "cell_type": "code",
   "execution_count": 1,
   "id": "ce7f1352",
   "metadata": {},
   "outputs": [
    {
     "name": "stdout",
     "output_type": "stream",
     "text": [
      "What is your name: A\n",
      "How old are you: 2\n",
      "What is your favorite color: red\n"
     ]
    }
   ],
   "source": [
    "# Collecting user information\n",
    "name = input(\"What is your name: \")\n",
    "age = input(\"How old are you: \")\n",
    "color = input(\"What is your favorite color: \")\n",
    "\n"
   ]
  },
  {
   "cell_type": "code",
   "execution_count": 2,
   "id": "9cc7f155",
   "metadata": {},
   "outputs": [
    {
     "name": "stdout",
     "output_type": "stream",
     "text": [
      "User information \n",
      "name: A\n",
      "age: 2\n",
      "color: red\n"
     ]
    }
   ],
   "source": [
    "# Printing user information\n",
    "print(\"User information \")\n",
    "print(\"name: \" + name)\n",
    "print(\"age: \" + age)\n",
    "print(\"color: \" + color)"
   ]
  },
  {
   "cell_type": "code",
   "execution_count": null,
   "id": "511aea25",
   "metadata": {},
   "outputs": [],
   "source": []
  }
 ],
 "metadata": {
  "kernelspec": {
   "display_name": "Python 3 (ipykernel)",
   "language": "python",
   "name": "python3"
  },
  "language_info": {
   "codemirror_mode": {
    "name": "ipython",
    "version": 3
   },
   "file_extension": ".py",
   "mimetype": "text/x-python",
   "name": "python",
   "nbconvert_exporter": "python",
   "pygments_lexer": "ipython3",
   "version": "3.9.13"
  }
 },
 "nbformat": 4,
 "nbformat_minor": 5
}
